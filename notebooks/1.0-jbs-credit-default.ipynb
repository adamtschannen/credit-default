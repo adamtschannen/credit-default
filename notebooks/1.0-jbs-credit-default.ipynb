{
 "cells": [
  {
   "cell_type": "markdown",
   "metadata": {},
   "source": [
    "# Logistic Regression of Credit Defaults\n",
    "## MSDS 7349 - Section 401\n",
    "## Lab 1\n",
    "\n",
    "[Data Science @ Southern Methodist University](https://datascience.smu.edu/)\n",
    "\n",
    "**Team:**\n",
    "    * Jostein Barry-Straume\n",
    "    * Kevin Cannon\n",
    "    * Ernesto Carrera Ruvalcaba\n",
    "    * Adam Tschannen"
   ]
  },
  {
   "cell_type": "markdown",
   "metadata": {},
   "source": [
    "# Table of Contents\n",
    "* [Team Members](#Team-Members)\n",
    "* [Business Understanding](#Business-Understanding)\n",
    "* [Data Meaning Type](#Data-Meaning-Type)\n",
    "* [Data Quality](#Data-Quality)\n",
    "* [Simple Statistics](#Simple-Statistics)\n",
    "* [Visualize Attributes](#Visualize-Attributes)\n",
    "* [Explore Joint Attributes](#Explore-Joint-Attributes)\n",
    "* [Explore Attributes and Class](#Explore-Attributes-and-Class)\n",
    "* [New Features](#New-Features)\n",
    "* [Exceptional Work](#Exceptional-Work)\n",
    "* [References](#References)"
   ]
  },
  {
   "cell_type": "markdown",
   "metadata": {},
   "source": [
    "# <a name=\"Team-Members\"></a>Team Members\n",
    "* [Jostein Barry-Straume](https://github.com/josteinstraume)\n",
    "* [Kevin Cannon](https://github.com/)\n",
    "* [Ernesto Carrera Ruvalcaba](https://github.com/ecarrerasmu)\n",
    "* [Adam Tschannen](https://github.com/adamtschannen)"
   ]
  },
  {
   "cell_type": "markdown",
   "metadata": {},
   "source": [
    "# <a name=\"Business-Understanding\"></a>Business Understanding\n",
    "> Describe the purpose of the data set you selected (i.e., why was this data collected in the first place?). Describe how you would define and measure the outcomes from the dataset. That is, why is this data important and how do you know if you have mined useful knowledge from the dataset? How would you measure the effectiveness of a good prediction algorithm? Be specific.\n",
    "\n",
    "> The credit default data set is from the [UCI Machine Learning Repository](https://archive.ics.uci.edu/ml/datasets/default+of+credit+card+clients#). It has 30,000 records with 24 attributes. The records reflect the payment data from an important Taiwanese bank during October, 2005 (Yeh & Lien 2475).\n",
    "\n",
    "> The purpose of the data set was to tackle the issue of forecasting the probability of default. In particular, the researchers of this data set sought to determine if the \"estimated probability of default produced from data mining methods... (could) represent the \"real\" probability of default\" (Yeh & Lien 2473).\n",
    "\n",
    "> One way to define and measure the outcomes from the data set would be to perform a logistic regression. In doing so, one could predict if a customer would default on a credit payment in the next month.\n",
    "\n",
    "> In order to measure the effectiveness of the prediction algorithm, the data set will be randomly split into a training and a test data sets. Consequently, we can then measure the accuracy of the prediction algorithm with real world data."
   ]
  },
  {
   "cell_type": "markdown",
   "metadata": {},
   "source": [
    "# <a name=\"Data-Meaning-Type\"></a>Data Meaning Type\n",
    "> Describe the meaning and type of data (scale, values, etc.) for each attribute in the data file.\n",
    "\n",
    "| Variable | Variable Type | Summary |\n",
    "| :------: | :-----------: | :-----: |\n",
    "| LIMIT_BAL | int64 | Test |\n",
    "| SEX | int64 | int64 |\n",
    "| EDUCATION | int64 | Test |\n",
    "| MARRIAGE | int64 | Test |\n",
    "| AGE | int64 | Test |\n",
    "| PAY_0 | int64 | Test |\n",
    "| PAY_2 | int64 | Test |\n",
    "| PAY_3 | int64 | Test |\n",
    "| PAY_4 | int64 | Test |\n",
    "| PAY_5 | int64 | Test |\n",
    "| PAY_6 | int64 | Test |\n",
    "| BILL_ATM1 | int64 | Test |\n",
    "| BILL_ATM2 | int64 | Test |\n",
    "| BILL_ATM3 | int64 | Test |\n",
    "| BILL_ATM4 | int64 | Test |\n",
    "| BILL_ATM5 | int64 | Test |\n",
    "| BILL_ATM6 | int64 | Test |\n",
    "| PAY_ATM1 | int64 | Test |\n",
    "| PAY_ATM2 | int64 | Test |\n",
    "| PAY_ATM3 | int64 | Test |\n",
    "| PAY_ATM4 | int64 | Test |\n",
    "| PAY_ATM5 | int64 | Test |\n",
    "| PAY_ATM6 | int64 | Test |\n",
    "| default payment next month | int64 | Test |"
   ]
  },
  {
   "cell_type": "markdown",
   "metadata": {},
   "source": [
    "# <a name=\"Data-Quality\"></a>Data Quality\n",
    ">Verify data quality: Explain any missing values, duplicate data, and outliers. Are those mistakes? How do you deal with these problems? Give justifications for your methods."
   ]
  },
  {
   "cell_type": "markdown",
   "metadata": {},
   "source": [
    "# <a name=\"Simple-Statistics\"></a>Simple Statistics\n",
    ">Visualize appropriate statistics (e.g., range, mode, mean, median, variance, counts) for a subset of attributes. Describe anything meaningful you found from this or if you found something potentially interesting. Note: You can also use data from other sources for comparison. Explain why the statistics run are meaningful. "
   ]
  },
  {
   "cell_type": "markdown",
   "metadata": {},
   "source": [
    "# <a name=\"Visualize-Attributes\"></a>Visualize Attributes\n",
    ">Visualize the most interesting attributes (at least 5 attributes, your opinion on what is interesting). Important: Interpret the implications for each visualization. Explain for each attribute why the chosen visualization is appropriate."
   ]
  },
  {
   "cell_type": "markdown",
   "metadata": {},
   "source": [
    "# <a name=\"Explore-Joint-Attributes\"></a>Explore Joint Attributes\n",
    ">\tVisualize relationships between attributes: Look at the attributes via scatter plots, correlation, cross-tabulation, group-wise averages, etc. as appropriate. Explain any interesting relationships."
   ]
  },
  {
   "cell_type": "markdown",
   "metadata": {},
   "source": [
    "# <a name=\"Explore-Attributes-and-Class\"></a>Explore Attributes and Class\n",
    ">Identify and explain interesting relationships between features and the class you are trying to predict (i.e., relationships with variables and the target classification)."
   ]
  },
  {
   "cell_type": "markdown",
   "metadata": {},
   "source": [
    "# <a name=\"New-Features\"></a>New Features\n",
    ">Are there other features that could be added to the data or created from existing features? Which ones?"
   ]
  },
  {
   "cell_type": "markdown",
   "metadata": {},
   "source": [
    "# <a name=\"Exceptional-Work\"></a>Exceptional Work\n",
    ">\tYou have free reign to provide additional analyses. One idea: implement dimensionality reduction, then visualize and interpret the results."
   ]
  },
  {
   "cell_type": "markdown",
   "metadata": {},
   "source": [
    "# <a name=\"References\"></a>References\n",
    "* Yeh, I. C., & Lien, C. H. (2009). The comparisons of data mining techniques for the predictive accuracy of probability of default of credit card clients. Expert Systems with Applications, 36(2), 2473-2480.\n",
    "* https://pandas.pydata.org/pandas-docs/stable/api.html"
   ]
  },
  {
   "cell_type": "code",
   "execution_count": null,
   "metadata": {
    "collapsed": true
   },
   "outputs": [],
   "source": []
  }
 ],
 "metadata": {
  "kernelspec": {
   "display_name": "Python 3",
   "language": "python",
   "name": "python3"
  },
  "language_info": {
   "codemirror_mode": {
    "name": "ipython",
    "version": 3
   },
   "file_extension": ".py",
   "mimetype": "text/x-python",
   "name": "python",
   "nbconvert_exporter": "python",
   "pygments_lexer": "ipython3",
   "version": "3.6.3"
  }
 },
 "nbformat": 4,
 "nbformat_minor": 2
}
